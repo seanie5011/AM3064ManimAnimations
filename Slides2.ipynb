{
 "cells": [
  {
   "cell_type": "code",
   "execution_count": 1,
   "id": "c9b450e8",
   "metadata": {},
   "outputs": [
    {
     "data": {
      "text/html": [
       "<pre style=\"white-space:pre;overflow-x:auto;line-height:normal;font-family:Menlo,'DejaVu Sans Mono',consolas,'Courier New',monospace\">Manim Community <span style=\"color: #008000; text-decoration-color: #008000\">v0.14.0</span>\n",
       "\n",
       "</pre>\n"
      ],
      "text/plain": [
       "Manim Community \u001b[32mv0.\u001b[0m\u001b[32m14.0\u001b[0m\n",
       "\n"
      ]
     },
     "metadata": {},
     "output_type": "display_data"
    }
   ],
   "source": [
    "from manim import *\n",
    "import numpy as np"
   ]
  },
  {
   "cell_type": "code",
   "execution_count": 2,
   "id": "7161037e",
   "metadata": {},
   "outputs": [
    {
     "name": "stderr",
     "output_type": "stream",
     "text": [
      "                                                                                                                       \r"
     ]
    },
    {
     "data": {
      "text/html": [
       "<video src=\"media\\jupyter\\Slide3@2022-02-21@22-30-13.mp4\" controls autoplay loop style=\"max-width: 60%;\"  >\n",
       "      Your browser does not support the <code>video</code> element.\n",
       "    </video>"
      ],
      "text/plain": [
       "<IPython.core.display.Video object>"
      ]
     },
     "metadata": {},
     "output_type": "display_data"
    }
   ],
   "source": [
    "%%manim -v WARNING -qh Slide3\n",
    "\n",
    "class Slide3(Scene):\n",
    "    def construct(self):\n",
    "        slide3_title = Text(\"History of Reinforcement Learning\", font_size = 45, color = BLUE)\n",
    "        slide3_title.to_corner(UP + LEFT)\n",
    "        slide3_tite_ul = Underline(slide3_title, color = BLUE)\n",
    "        self.play(\n",
    "            Create(slide3_title),\n",
    "            Create(slide3_tite_ul),\n",
    "        )\n",
    "        slide4_text1 = Text(\"1850 - Principles of RL First Applied\", t2c={\"1850\": YELLOW}, font_size = 25).to_corner(LEFT).shift(UP*2)\n",
    "        slide4_text2 = Text(\"1927 - Term Reinforcement first used\", t2c={\"1927\": YELLOW}, font_size = 25).to_corner(LEFT).shift(UP)\n",
    "        slide4_text3 = Text(\"1948 - Alan Turing Describes an RL AI\",t2c={\"1948\": YELLOW}, font_size = 25).to_corner(LEFT)\n",
    "        slide4_text4 = Text(\"1955 - Confusion with Supervised Learning\", t2c={\"1955\": YELLOW}, font_size = 25).to_corner(LEFT).shift(DOWN)\n",
    "        slide4_text5 = Text(\"1961 - Donald Michie Develops MENACE\", t2c={\"1961\": YELLOW}, font_size = 25).to_corner(LEFT).shift(2 * DOWN)\n",
    "        slide4_text6 = Text(\"1990 - Resurgence of Interest in RL and Use of Deep RL\", t2c={\"1990\": YELLOW}, font_size = 25).to_corner(LEFT).shift(3 * DOWN)\n",
    "        slide4_par1 = VGroup(slide4_text1, slide4_text2, slide4_text3, slide4_text4, slide4_text5, slide4_text6)\n",
    "        self.play(Create(slide4_par1))\n",
    "        self.wait()"
   ]
  },
  {
   "cell_type": "code",
   "execution_count": 3,
   "id": "2fa18c10",
   "metadata": {},
   "outputs": [
    {
     "name": "stderr",
     "output_type": "stream",
     "text": [
      "                                                                                                                       \r"
     ]
    },
    {
     "data": {
      "text/html": [
       "<video src=\"media\\jupyter\\Slide4@2022-02-21@22-30-28.mp4\" controls autoplay loop style=\"max-width: 60%;\"  >\n",
       "      Your browser does not support the <code>video</code> element.\n",
       "    </video>"
      ],
      "text/plain": [
       "<IPython.core.display.Video object>"
      ]
     },
     "metadata": {},
     "output_type": "display_data"
    }
   ],
   "source": [
    "%%manim -v WARNING -qh --save_sections Slide4\n",
    "\n",
    "class Slide4(Scene):\n",
    "    def construct(self):\n",
    "        slide4_title = Text(\"MENACE\", font_size = 45, color = BLUE)\n",
    "        slide4_title.to_corner(UP + LEFT)\n",
    "        slide4_tite_ul = Underline(slide4_title, color = BLUE)\n",
    "        MENACE = ImageMobject(\"assets/MENACE.jpg\")\n",
    "        MENACE.scale_to_fit_width(0.6 * config.frame_width).shift(DOWN / 2)\n",
    "        self.play(\n",
    "            Create(slide4_title),\n",
    "            Create(slide4_tite_ul),\n",
    "            FadeIn(MENACE)\n",
    "        )\n",
    "        self.wait()\n",
    "        self.next_section()\n",
    "        \n",
    "        slide4_text1 = Text(\"Manual Educable Noughts And Crosses Engine\", t2c={\"M\": YELLOW, \"E\": YELLOW, \"N\": YELLOW, \"A\": YELLOW, \"C\": YELLOW}, font_size = 25).to_corner(LEFT).shift(UP*2)\n",
    "        slide4_text2 = Text(\"- Simple system of learning\", t2c={\"Environment\": YELLOW}, font_size = 25).to_corner(LEFT).shift(UP)\n",
    "        slide4_text22 = Text(\"Tic-Tac-Toe\", font_size = 25).to_corner(LEFT).shift(UP/2).shift(RIGHT*0.25)\n",
    "        slide4_text3 = Text(\"- Consisted of matchboxes which\", t2c={\"Actions\": YELLOW}, font_size = 25).to_corner(LEFT)\n",
    "        slide4_text33 = Text(\"described game state\", font_size = 25).to_corner(LEFT).shift(DOWN/2).shift(RIGHT*0.25)\n",
    "        slide4_text4 = Text(\"- Each box has colourful beads\", t2c={\"Random\": YELLOW, \"Colourful\": YELLOW}, font_size = 25).to_corner(LEFT).shift(DOWN)\n",
    "        slide4_text44 = Text(\"representing a random move\", font_size = 25).to_corner(LEFT).shift(DOWN*3/2).shift(RIGHT*0.25)\n",
    "        slide4_text5 = Text(\"- Beads Added or Subtracted if\", t2c={\" Added\": GREEN, \"Subtracted\": RED,\"Win\": GREEN, \"Loss\": RED}, font_size = 25).to_corner(LEFT).shift(2*DOWN)\n",
    "        slide4_text55 = Text(\"moves lead to Win or Loss\", t2c={\"Win\": GREEN, \"Loss\": RED}, font_size = 25).to_corner(LEFT).shift(DOWN*5/2).shift(RIGHT*0.25)\n",
    "        slide4_text6 = Text(\"- This in turn Rewards or Punishes MENACE's decisions\", t2c={\"Rewards\": GREEN, \"Punishes\": RED}, font_size = 25).to_corner(LEFT).shift(3.1*DOWN)\n",
    "        \n",
    "        slide4_par1 = VGroup(slide4_text1, slide4_text2,slide4_text22, slide4_text3, slide4_text33, slide4_text4,slide4_text44, slide4_text5, slide4_text55, slide4_text6)\n",
    "        self.play(MENACE.animate.to_corner(RIGHT + DOWN).scale(0.75).shift(RIGHT, 0.4 * UP))\n",
    "        self.play(Create(slide4_par1))\n",
    "        self.wait()"
   ]
  },
  {
   "cell_type": "code",
   "execution_count": 4,
   "id": "69f6ddaf",
   "metadata": {},
   "outputs": [
    {
     "name": "stderr",
     "output_type": "stream",
     "text": [
      "                                                                                                                       \r"
     ]
    },
    {
     "data": {
      "text/html": [
       "<video src=\"media\\jupyter\\Slide5@2022-02-21@22-30-30.mp4\" controls autoplay loop style=\"max-width: 60%;\"  >\n",
       "      Your browser does not support the <code>video</code> element.\n",
       "    </video>"
      ],
      "text/plain": [
       "<IPython.core.display.Video object>"
      ]
     },
     "metadata": {},
     "output_type": "display_data"
    }
   ],
   "source": [
    "%%manim -v WARNING -qh Slide5\n",
    "\n",
    "class Slide5(Scene):\n",
    "    def construct(self):\n",
    "        slide5_title = Text(\"Applications of Reinforcement Learning\", font_size = 40, color = BLUE)\n",
    "        slide5_title.to_corner(UP + LEFT)\n",
    "        slide5_tite_ul = Underline(slide5_title, color = BLUE)\n",
    "        self.play(\n",
    "            Create(slide5_title),\n",
    "            Create(slide5_tite_ul),\n",
    "        )\n",
    "        slide5_text1 = Text(\"- Self driving cars\", t2c={\"Self driving\": YELLOW},font_size = 25).to_corner(LEFT).shift(UP*2)\n",
    "        slide5_text2 = Text(\"- Industrial automation\", t2c={\"Industrial\": YELLOW}, font_size = 25).to_corner(LEFT).shift(UP)\n",
    "        slide5_text3 = Text(\"- Financial and stock trading algorithms\",t2c={\"Financial\": YELLOW}, font_size = 25).to_corner(LEFT)\n",
    "        slide5_text4 = Text(\"- Medical service automation\", t2c={\"Medical\": YELLOW}, font_size = 25).to_corner(LEFT).shift(DOWN)\n",
    "        slide5_par1 = VGroup(slide5_text1, slide5_text2, slide5_text3, slide5_text4)\n",
    "        self.play(Create(slide5_par1))\n",
    "        self.wait()"
   ]
  },
  {
   "cell_type": "code",
   "execution_count": 5,
   "id": "41a4c18a",
   "metadata": {},
   "outputs": [
    {
     "name": "stderr",
     "output_type": "stream",
     "text": [
      "                                                                                                                       \r"
     ]
    },
    {
     "data": {
      "text/html": [
       "<video src=\"media\\jupyter\\Slide6@2022-02-21@22-30-32.mp4\" controls autoplay loop style=\"max-width: 60%;\"  >\n",
       "      Your browser does not support the <code>video</code> element.\n",
       "    </video>"
      ],
      "text/plain": [
       "<IPython.core.display.Video object>"
      ]
     },
     "metadata": {},
     "output_type": "display_data"
    }
   ],
   "source": [
    "%%manim -v WARNING -qh Slide6\n",
    "\n",
    "class Slide6(Scene):\n",
    "    def construct(self):\n",
    "        slide6_title = Text(\"Limitations of Reinforcement Learning\", font_size = 40, color = BLUE)\n",
    "        slide6_title.to_corner(UP + LEFT)\n",
    "        slide6_tite_ul = Underline(slide6_title, color = BLUE)\n",
    "        self.play(\n",
    "            Create(slide6_title),\n",
    "            Create(slide6_tite_ul),\n",
    "        )\n",
    "        slide6_text1 = Text(\"- Too much RL causes overload of states\",t2c={\"Too much RL\": YELLOW}, font_size = 25).to_corner(LEFT).shift(UP*2)\n",
    "        slide6_text2 = Text(\"- RL algorithm unsuited for simple problems\", t2c={\"unsuited for simple problems\": YELLOW}, font_size = 25).to_corner(LEFT).shift(UP)\n",
    "        slide6_text3 = Text(\"- Optimal policies gained only at extreme cost\",t2c={\"extreme cost\": YELLOW}, font_size = 25).to_corner(LEFT)\n",
    "        slide6_text4 = Text(\"- Limited application to real physical systems\", t2c={\"real physical systems\": YELLOW}, font_size = 25).to_corner(LEFT).shift(DOWN)\n",
    "        slide6_par1 = VGroup(slide6_text1, slide6_text2, slide6_text3, slide6_text4)\n",
    "        self.play(Create(slide6_par1))\n",
    "        self.wait()"
   ]
  },
  {
   "cell_type": "code",
   "execution_count": 6,
   "id": "df511d68",
   "metadata": {},
   "outputs": [
    {
     "name": "stderr",
     "output_type": "stream",
     "text": [
      "                                                                                                                       \r"
     ]
    },
    {
     "data": {
      "text/html": [
       "<video src=\"media\\jupyter\\Slide7@2022-02-21@22-30-45.mp4\" controls autoplay loop style=\"max-width: 60%;\"  >\n",
       "      Your browser does not support the <code>video</code> element.\n",
       "    </video>"
      ],
      "text/plain": [
       "<IPython.core.display.Video object>"
      ]
     },
     "metadata": {},
     "output_type": "display_data"
    }
   ],
   "source": [
    "%%manim -v WARNING -qh --save_sections Slide7\n",
    "\n",
    "class Slide7(Scene):\n",
    "    def construct(self):\n",
    "        slide4_title = Text(\"Markov Decision Processes\", font_size = 45, color = BLUE)\n",
    "        slide4_title.to_corner(UP + LEFT)\n",
    "        slide4_tite_ul = Underline(slide4_title, color = BLUE)\n",
    "        Markov = ImageMobject(\"assets/Markov.png\")\n",
    "        Markov.scale_to_fit_width(0.6 * config.frame_width).shift(DOWN / 2)\n",
    "        self.play(\n",
    "            Create(slide4_title),\n",
    "            Create(slide4_tite_ul),\n",
    "            FadeIn(Markov)\n",
    "        )\n",
    "        self.wait()\n",
    "        self.next_section()\n",
    "\n",
    "        slide4_text2 = Text(\"- MDP's provide a maths framework for modelling decision making where results\", t2c={\"MDP's\": YELLOW}, font_size = 25).to_corner(LEFT).shift(UP*2)\n",
    "        slide4_text22 = Text(\"are partly random and partly user controlled\", font_size = 25).to_corner(LEFT).shift(UP* 3/2).shift(RIGHT*0.25)\n",
    "        slide4_text3 = Text(\"- In an MDP, dynamics defined by the probability function based on states, actions\", t2c={\"states\": YELLOW, \"actions\": YELLOW}, font_size = 25).to_corner(LEFT).shift(UP)\n",
    "        slide4_text33 = Text(\"and reward.\",t2c={\"reward\": YELLOW}, font_size = 25).to_corner(LEFT).shift(UP/2).shift(RIGHT*0.25)\n",
    "        \n",
    "        slide4_par1 = VGroup(slide4_text2,slide4_text22, slide4_text3, slide4_text33)\n",
    "        self.play(Markov.animate.to_corner(DOWN).scale(0.9))\n",
    "        self.play(Create(slide4_par1))\n",
    "        self.wait()"
   ]
  },
  {
   "cell_type": "code",
   "execution_count": 7,
   "id": "33ffb142",
   "metadata": {},
   "outputs": [
    {
     "name": "stderr",
     "output_type": "stream",
     "text": [
      "                                                                                                                       \r"
     ]
    },
    {
     "data": {
      "text/html": [
       "<video src=\"media\\jupyter\\Slide8@2022-02-21@22-30-53.mp4\" controls autoplay loop style=\"max-width: 60%;\"  >\n",
       "      Your browser does not support the <code>video</code> element.\n",
       "    </video>"
      ],
      "text/plain": [
       "<IPython.core.display.Video object>"
      ]
     },
     "metadata": {},
     "output_type": "display_data"
    }
   ],
   "source": [
    "%%manim -v WARNING -qh --save_sections Slide8\n",
    "\n",
    "class Slide8(Scene):\n",
    "    def construct(self):\n",
    "        slide4_title = Text(\"Policies and Value Functions\", font_size = 45, color = BLUE)\n",
    "        slide4_title.to_corner(UP + LEFT)\n",
    "        slide4_tite_ul = Underline(slide4_title, color = BLUE)\n",
    "        self.play(\n",
    "            Create(slide4_title),\n",
    "            Create(slide4_tite_ul),\n",
    "        )\n",
    "\n",
    "        slide4_text2 = Text(\"State value function - estimates the expected return for the state.\", t2c={\"State value function\": YELLOW}, font_size = 25).to_corner(LEFT).shift(DOWN)\n",
    "        slide4_tex2 = MathTex(r\"v_{\\pi} \\left( s \\right) = \\mathbb{E}_{\\pi} \\left[ R_{t+1} + \\gamma G_{t+1} | S_t = s \\right]\", font_size = 30).shift(DOWN * (3/2 + 0.25))\n",
    "        slide4_text22 = Text(\"Action value function - estimates the expected return for the action.\", t2c={\"Action value function\": YELLOW}, font_size = 25).to_corner(LEFT).shift(DOWN*5/2)\n",
    "        slide4_tex22 = MathTex(r\"q_{\\pi} \\left( s, a \\right) = \\mathbb{E}_{\\pi} \\left[ \\sum_{k=0}^{\\infty} \\gamma^{k} R_{t+k+1} | S_t = s, A_t = a \\right]\", font_size = 30).shift(DOWN*3.25)\n",
    "        slide4_text3 = Text(\"Policies - method of mapping actions to states.\", t2c={\"Policies\": YELLOW}, font_size = 25).to_corner(LEFT).shift(UP/2)\n",
    "        slide4_tex3 = MathTex(r\"\\pi \\left( a | s \\right)\", font_size = 30).shift(DOWN * 0.25)\n",
    "        slide4_text33 = Text(\"Return - the sum of all gained rewards\", t2c={\"Return\": YELLOW}, font_size = 25).to_corner(LEFT).shift(UP*2)\n",
    "        slide4_tex33 = MathTex(r\"G_t = \\sum_{k=t+1}^{T} \\gamma^{k-t-1} R_k\", font_size = 30).shift(UP * (3/2 - 0.25))\n",
    "        \n",
    "        slide4_par1 = VGroup(slide4_text33, slide4_tex33)\n",
    "        slide4_par2 = VGroup(slide4_text3, slide4_tex3)\n",
    "        slide4_par3 = VGroup(slide4_text2, slide4_tex2)\n",
    "        slide4_par4 = VGroup(slide4_text22, slide4_tex22)\n",
    "\n",
    "        self.play(Create(slide4_par1))\n",
    "        self.wait()\n",
    "        self.next_section()\n",
    "        self.play(Create(slide4_par2))\n",
    "        self.wait()\n",
    "        self.next_section()\n",
    "        self.play(Create(slide4_par3))\n",
    "        self.wait()\n",
    "        self.next_section()\n",
    "        self.play(Create(slide4_par4))\n",
    "        self.wait()\n",
    "        self.next_section()"
   ]
  },
  {
   "cell_type": "code",
   "execution_count": 8,
   "id": "cbe0e72f",
   "metadata": {},
   "outputs": [
    {
     "name": "stderr",
     "output_type": "stream",
     "text": [
      "                                                                                                                       \r"
     ]
    },
    {
     "data": {
      "text/html": [
       "<video src=\"media\\jupyter\\Slide9@2022-02-21@22-31-00.mp4\" controls autoplay loop style=\"max-width: 60%;\"  >\n",
       "      Your browser does not support the <code>video</code> element.\n",
       "    </video>"
      ],
      "text/plain": [
       "<IPython.core.display.Video object>"
      ]
     },
     "metadata": {},
     "output_type": "display_data"
    }
   ],
   "source": [
    "%%manim -v WARNING -qh --save_sections Slide9\n",
    "\n",
    "class Slide9(Scene):\n",
    "    def construct(self):\n",
    "        slide4_title = Text(\"Optimal Policies and Value Functions\", font_size = 45, color = BLUE)\n",
    "        slide4_title.to_corner(UP + LEFT)\n",
    "        slide4_tite_ul = Underline(slide4_title, color = BLUE)\n",
    "        self.play(\n",
    "            Create(slide4_title),\n",
    "            Create(slide4_tite_ul),\n",
    "        )\n",
    "\n",
    "        slide4_text1 = Text(\"- For a given set of policies, the optimal value function returns the best\", t2c={\"best\": YELLOW}, font_size = 25).to_corner(LEFT).shift(UP*2)\n",
    "        slide4_text2 = Text(\"value function from those policies\", t2c={\"value function\": YELLOW}, font_size = 25).to_corner(LEFT).shift(UP*3/2).shift(RIGHT*0.25)\n",
    "        slide4_text22 = Text(\"- Optimal policies and value functions are denoted by a star (*)\", t2c={\"star (*)\": YELLOW}, font_size = 25).to_corner(LEFT).shift(UP)\n",
    "        slide4_tex22 = MathTex(r\"v_{*} \\left( s \\right) = \\underset{\\pi}{max} v_{\\pi} \\left( s \\right)\", font_size = 35).move_to(slide4_text22).shift(DOWN, RIGHT * 2)\n",
    "        slide4_tex222 = MathTex(r\"q_{*} \\left( s, a \\right) = \\underset{\\pi}{max} q_{\\pi} \\left( s, a \\right)\", font_size = 30).move_to(slide4_tex22).shift(DOWN)\n",
    "        slide4_text3 = Text(\"- Optimal policies and value functions fulfill the Bellman Optimality equation.\", t2c={\"Bellman Optimality equation\": YELLOW}, font_size = 25).to_corner(LEFT).shift(DOWN*2)\n",
    "        slide4_tex3 = MathTex(r\"q_{*} \\left( s, a \\right) = \\mathbb{E}_{\\pi} \\left[ R_{t+1} + \\gamma \\underset{a'}{max} q_{*} \\left( s', a' \\right) \\right]\", font_size = 30).move_to(slide4_text3).shift(DOWN, RIGHT)\n",
    "        \n",
    "        slide4_par1 = VGroup(slide4_text1, slide4_text2, slide4_text22, slide4_tex22, slide4_tex222)\n",
    "        slide4_par2 = VGroup(slide4_text3, slide4_tex3)\n",
    "        self.play(Create(slide4_par1))\n",
    "        self.wait()\n",
    "        self.next_section()\n",
    "        self.play(Create(slide4_par2))\n",
    "        self.wait()"
   ]
  }
 ],
 "metadata": {
  "kernelspec": {
   "display_name": "Python 3 (ipykernel)",
   "language": "python",
   "name": "python3"
  },
  "language_info": {
   "codemirror_mode": {
    "name": "ipython",
    "version": 3
   },
   "file_extension": ".py",
   "mimetype": "text/x-python",
   "name": "python",
   "nbconvert_exporter": "python",
   "pygments_lexer": "ipython3",
   "version": "3.9.7"
  }
 },
 "nbformat": 4,
 "nbformat_minor": 5
}
