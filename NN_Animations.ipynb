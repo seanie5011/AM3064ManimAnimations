{
 "cells": [
  {
   "cell_type": "code",
   "execution_count": 2,
   "id": "77e66806",
   "metadata": {},
   "outputs": [
    {
     "data": {
      "text/html": [
       "<pre style=\"white-space:pre;overflow-x:auto;line-height:normal;font-family:Menlo,'DejaVu Sans Mono',consolas,'Courier New',monospace\">Manim Community <span style=\"color: #008000; text-decoration-color: #008000\">v0.14.0</span>\n",
       "\n",
       "</pre>\n"
      ],
      "text/plain": [
       "Manim Community \u001b[32mv0.\u001b[0m\u001b[32m14.0\u001b[0m\n",
       "\n"
      ]
     },
     "metadata": {},
     "output_type": "display_data"
    }
   ],
   "source": [
    "from manim import *\n",
    "import numpy as np\n",
    "from ManimCENN import NeuralNetworkMobject"
   ]
  },
  {
   "cell_type": "code",
   "execution_count": 3,
   "id": "64513c51",
   "metadata": {},
   "outputs": [
    {
     "name": "stderr",
     "output_type": "stream",
     "text": [
      "<string>:54: DeprecationWarning: This method is not guaranteed to stay around. Please prefer getting the attribute normally.\n",
      "<string>:66: DeprecationWarning: This method is not guaranteed to stay around. Please prefer getting the attribute normally.\n",
      "                                                                                                                       \r"
     ]
    },
    {
     "data": {
      "text/html": [
       "<video src=\"media\\jupyter\\NeuralNetworkTest@2022-02-21@22-41-34.mp4\" controls autoplay loop style=\"max-width: 60%;\"  >\n",
       "      Your browser does not support the <code>video</code> element.\n",
       "    </video>"
      ],
      "text/plain": [
       "<IPython.core.display.Video object>"
      ]
     },
     "metadata": {},
     "output_type": "display_data"
    }
   ],
   "source": [
    "%%manim -v WARNING -qh --save_sections NeuralNetworkTest\n",
    "\n",
    "class NeuralNetworkTest(Scene):\n",
    "    def construct(self):\n",
    "        # Display Bird Image / Title and then display details\n",
    "        title = Text(\"Deep Reinforcement Learning\", font_size = 45, color = BLUE)\n",
    "        title.to_corner(UP + LEFT)\n",
    "        title_ul = Underline(title, color = BLUE)\n",
    "        bird_img = ImageMobject(\"assets/bird_img.png\")\n",
    "        bird_img.scale_to_fit_height(config.frame_height)\n",
    "        bird_img.to_edge(RIGHT, buff=0)\n",
    "        self.play(Write(title), Create(title_ul), FadeIn(bird_img))\n",
    "        self.wait()\n",
    "        self.next_section()\n",
    "        \n",
    "        bird_img_label = ImageMobject(\"assets/bird_img_label.png\")\n",
    "        bird_img_label.scale_to_fit_height(config.frame_height)\n",
    "        bird_img_label.to_edge(RIGHT, buff=0)\n",
    "        self.play(FadeIn(bird_img_label))\n",
    "        self.play(FadeOut(bird_img))\n",
    "        self.wait()\n",
    "        self.next_section()\n",
    "        \n",
    "        # Create NN\n",
    "        NN = NeuralNetworkMobject([3, 1],\n",
    "                                  neuron_radius = 0.15,\n",
    "                                  neuron_to_neuron_buff = MED_SMALL_BUFF,\n",
    "                                  layer_to_layer_buff = LARGE_BUFF,\n",
    "                                  output_neuron_color = WHITE,\n",
    "                                  input_neuron_color = WHITE,\n",
    "                                  hidden_layer_neuron_color = WHITE,\n",
    "                                  neuron_stroke_width = 5,\n",
    "                                  neuron_fill_color = WHITE,\n",
    "                                  edge_color = RED,\n",
    "                                  edge_stroke_width = 4,\n",
    "                                  edge_propogation_color = YELLOW,\n",
    "                                  edge_propogation_time = 1,\n",
    "                                  max_shown_neurons = 16,\n",
    "                                  brace_for_large_layers = True,\n",
    "                                  average_shown_activation_of_large_layer = True,\n",
    "                                  include_output_labels = False,\n",
    "                                  arrow = False,\n",
    "                                  arrow_tip_size = 0.1,\n",
    "                                  left_size = 1,\n",
    "                                  neuron_fill_opacity = 0)\n",
    "        \n",
    "        NN.scale(3)\n",
    "        self.play(Create(NN.shift(2 * LEFT, DOWN)))\n",
    "        self.wait(0.5)\n",
    "        \n",
    "        input_text_Group = []\n",
    "        input_label_list = [\"Bird Y\", \"Top-Pipe Distance\", \"Bottom-Pipe Distance\"]\n",
    "        for index, text_str in enumerate(input_label_list):\n",
    "            neuron = NN.layers[0].neurons[index]\n",
    "            neuron_width = neuron.get_width()\n",
    "            \n",
    "            text = Text(text_str, font_size = 45)\n",
    "            text.move_to(neuron)\n",
    "            text.to_corner(UP).shift(DOWN)\n",
    "\n",
    "            input_text_Group.append(text)\n",
    "        \n",
    "        weight_tex_Group = []\n",
    "        weight_label_list = [\"$w_1$\", \"$w_2$\", \"$w_3$\"]\n",
    "        for index, tex_str in enumerate(weight_label_list):\n",
    "            neuron = NN.layers[0].neurons[index]\n",
    "            neuron_width = neuron.get_width()\n",
    "            \n",
    "            tex = Tex(tex_str, font_size = 45, color = RED)\n",
    "            tex.move_to(neuron).shift(LEFT)\n",
    "\n",
    "            weight_tex_Group.append(tex)\n",
    "            \n",
    "        NN_Edges = NN.edge_groups[0].copy()\n",
    "        NN_Edges_Flash = [ShowPassingFlash(i.set_color(YELLOW), run_time=1, time_width=2) for i in NN_Edges]\n",
    "        \n",
    "        output_neuron = NN.layers[-1].neurons[0]\n",
    "        output_neuron_text = Text(\"Output\", font_size = 45)\n",
    "        output_neuron_text.move_to(output_neuron)\n",
    "        output_neuron_text.shift(UP)\n",
    "        self.play(Write(output_neuron_text))\n",
    "        self.wait()\n",
    "        self.next_section()\n",
    "        \n",
    "        for i in range(0, 3):\n",
    "            new_neuron = Circle(radius = 0.15, stroke_width = 5, stroke_color = WHITE, fill_color = WHITE, fill_opacity = 0.3)\n",
    "            new_neuron.scale(3)\n",
    "            new_neuron.move_to(NN.layers[0].neurons[i])\n",
    "            \n",
    "            self.play(Write(input_text_Group[i]))\n",
    "            self.play(Transform(input_text_Group[i], new_neuron))\n",
    "            self.play(Write(weight_tex_Group[i]))\n",
    "            self.play(Transform(weight_tex_Group[i], NN.edge_groups[0].copy()[i]))\n",
    "            self.remove(weight_tex_Group[i], NN.edge_groups[0].copy()[i])\n",
    "            self.play(NN_Edges_Flash[i], FadeOut(input_text_Group[i], new_neuron))\n",
    "            self.wait()\n",
    "            self.next_section()\n",
    "            \n",
    "        self.wait()"
   ]
  },
  {
   "cell_type": "code",
   "execution_count": 3,
   "id": "e30e0680",
   "metadata": {},
   "outputs": [
    {
     "name": "stderr",
     "output_type": "stream",
     "text": [
      "                                                                                                                       \r"
     ]
    },
    {
     "data": {
      "text/html": [
       "<video src=\"media\\jupyter\\TanhFunctionPlot@2022-02-21@11-30-26.mp4\" controls autoplay loop style=\"max-width: 60%;\"  >\n",
       "      Your browser does not support the <code>video</code> element.\n",
       "    </video>"
      ],
      "text/plain": [
       "<IPython.core.display.Video object>"
      ]
     },
     "metadata": {},
     "output_type": "display_data"
    }
   ],
   "source": [
    "%%manim -v WARNING -qh TanhFunctionPlot\n",
    "\n",
    "# Helper Functions\n",
    "def get_horizontal_line_to_graph(axes, function, x, width, color):\n",
    "    result = VGroup()\n",
    "    line = DashedLine(\n",
    "        start=axes.c2p(0, function(x)),\n",
    "        end=axes.c2p(x, function(x)),\n",
    "        stroke_width=width,\n",
    "        stroke_color=color,\n",
    "    )\n",
    "    dot = Dot().set_color(color).move_to(axes.c2p(x, function(x)))\n",
    "    result.add(line, dot)\n",
    "    return result\n",
    "\n",
    "def get_vertical_line_to_graph(axes, function, x, width, color):\n",
    "    result = VGroup()\n",
    "    line = DashedLine(\n",
    "        start=axes.c2p(x, 0),\n",
    "        end=axes.c2p(x, function(x)),\n",
    "        stroke_width=width,\n",
    "        stroke_color=color,\n",
    "    )\n",
    "    dot = Dot().set_color(color).move_to(axes.c2p(x, function(x)))\n",
    "    result.add(line, dot)\n",
    "    return result\n",
    "\n",
    "class TanhFunctionPlot(Scene):\n",
    "    def construct(self):\n",
    "        # Construct Axes eith labels\n",
    "        axes = Axes(\n",
    "            x_range=[-8.3, 8.3, 1],\n",
    "            y_range=[-1.1, 1.1, 0.25],\n",
    "            x_length=12,\n",
    "            axis_config={\"color\": GREEN},\n",
    "            x_axis_config={\n",
    "                \"numbers_to_include\": np.arange(-8, 10, 2),\n",
    "                \"numbers_with_elongated_ticks\": np.arange(-10, 10.01, 2),\n",
    "            },\n",
    "            y_axis_config={\n",
    "                \"numbers_to_include\": np.arange(-1, 1.5, 0.5),\n",
    "                \"numbers_with_elongated_ticks\": np.arange(-1, 1.5, 0.5),\n",
    "            },\n",
    "            tips=False,\n",
    "        )\n",
    "        axes_labels = axes.get_axis_labels()\n",
    "        \n",
    "        # Construct Function with labels\n",
    "        tanh_f = lambda x: np.tanh(x)\n",
    "        tanh_graph = axes.plot(lambda x: np.tanh(x), color=BLUE)\n",
    "        tanh_label = axes.get_graph_label(\n",
    "            tanh_graph, \"\\\\tanh(x)\", x_val=-10, direction=UP / 2\n",
    "        )\n",
    "        \n",
    "        # Play Axes and Function\n",
    "        plot = VGroup(axes, tanh_graph)\n",
    "        labels = VGroup(axes_labels, tanh_label)\n",
    "        self.play(Create(plot), Create(labels))\n",
    "        self.wait()\n",
    "        \n",
    "        # Create ValueTracker to track our updaters\n",
    "        k = ValueTracker(-5)  # Tracking the end values of stuff to show\n",
    "        \n",
    "        # Horizontal and Vertical lines (with dots)\n",
    "        moving_h_line = always_redraw(\n",
    "            lambda: get_horizontal_line_to_graph(\n",
    "                axes=axes, function=tanh_f, x=k.get_value(), width=4, color=YELLOW\n",
    "            )\n",
    "        )\n",
    "        moving_v_line = always_redraw(\n",
    "            lambda: get_vertical_line_to_graph(\n",
    "                axes=axes, function=tanh_f, x=k.get_value(), width=4, color=YELLOW\n",
    "            )\n",
    "        )\n",
    "        \n",
    "        # Inputs for lines\n",
    "        input_xvalue_text = Text(f\"Input: \", font_size = 40, color = YELLOW).to_corner(UP + LEFT)\n",
    "        input_xvalue = always_redraw(\n",
    "            lambda: DecimalNumber(num_decimal_places=2)\n",
    "            .set_value(k.get_value())\n",
    "            .next_to(input_xvalue_text, RIGHT, buff=0.1)\n",
    "            .set_color(YELLOW)\n",
    "        )\n",
    "        \n",
    "        # and Outputs for lines\n",
    "        output_yvalue_text = Text(f\"Output: \", font_size = 40, color = YELLOW).to_corner(UP + LEFT).shift(DOWN / 2)\n",
    "        output_yvalue = always_redraw(\n",
    "            lambda: DecimalNumber(num_decimal_places=2)\n",
    "            .set_value(tanh_f(k.get_value()))\n",
    "            .next_to(output_yvalue_text, RIGHT, buff=0.1)\n",
    "            .set_color(YELLOW)\n",
    "        )\n",
    "        \n",
    "        # add lines and inputs/outputs, and animate updaters\n",
    "        updater_objects = VGroup(moving_h_line, moving_v_line, input_xvalue_text, input_xvalue, output_yvalue_text, output_yvalue)\n",
    "        self.play(Create(updater_objects))\n",
    "        self.play(k.animate.set_value(5), run_time=10, rate_func=linear)\n",
    "        self.wait()"
   ]
  },
  {
   "cell_type": "code",
   "execution_count": null,
   "id": "ae24b6dd",
   "metadata": {},
   "outputs": [],
   "source": []
  }
 ],
 "metadata": {
  "kernelspec": {
   "display_name": "Python 3 (ipykernel)",
   "language": "python",
   "name": "python3"
  },
  "language_info": {
   "codemirror_mode": {
    "name": "ipython",
    "version": 3
   },
   "file_extension": ".py",
   "mimetype": "text/x-python",
   "name": "python",
   "nbconvert_exporter": "python",
   "pygments_lexer": "ipython3",
   "version": "3.9.7"
  }
 },
 "nbformat": 4,
 "nbformat_minor": 5
}
