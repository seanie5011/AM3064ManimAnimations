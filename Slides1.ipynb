{
 "cells": [
  {
   "cell_type": "code",
   "execution_count": 1,
   "id": "c9b450e8",
   "metadata": {},
   "outputs": [
    {
     "data": {
      "text/html": [
       "<pre style=\"white-space:pre;overflow-x:auto;line-height:normal;font-family:Menlo,'DejaVu Sans Mono',consolas,'Courier New',monospace\">Manim Community <span style=\"color: #008000; text-decoration-color: #008000\">v0.14.0</span>\n",
       "\n",
       "</pre>\n"
      ],
      "text/plain": [
       "Manim Community \u001b[32mv0.\u001b[0m\u001b[32m14.0\u001b[0m\n",
       "\n"
      ]
     },
     "metadata": {},
     "output_type": "display_data"
    }
   ],
   "source": [
    "from manim import *\n",
    "import numpy as np"
   ]
  },
  {
   "cell_type": "code",
   "execution_count": 2,
   "id": "e5f4fb6d",
   "metadata": {
    "scrolled": true
   },
   "outputs": [
    {
     "name": "stderr",
     "output_type": "stream",
     "text": [
      "                                                                                                                       \r"
     ]
    },
    {
     "data": {
      "text/html": [
       "<video src=\"media\\jupyter\\Slide1@2022-02-21@22-29-31.mp4\" controls autoplay loop style=\"max-width: 60%;\"  >\n",
       "      Your browser does not support the <code>video</code> element.\n",
       "    </video>"
      ],
      "text/plain": [
       "<IPython.core.display.Video object>"
      ]
     },
     "metadata": {},
     "output_type": "display_data"
    }
   ],
   "source": [
    "%%manim -v WARNING -qh --save_sections Slide1\n",
    "\n",
    "class Slide1(Scene):\n",
    "    def construct(self):\n",
    "        # opening screen\n",
    "        open_title = Text(\"Introduction To Reinforcement Learning\", font_size = 45)\n",
    "        open_subtitle = Text(\"By Brian Long and Sean O Riordan\", font_size = 40)\n",
    "        open_subsubtitle = Text(\"AM3064 - Computational Techniques\", font_size = 25)\n",
    "        open_subsubsubtitle = Text(\"22/02/2022\", font_size = 25)\n",
    "        open_slide = VGroup(open_title, open_subtitle, open_subsubtitle, open_subsubsubtitle).arrange(DOWN)\n",
    "        self.play(\n",
    "            Write(open_title),\n",
    "            FadeIn(open_slide - open_title, shift=UP),\n",
    "        )\n",
    "        self.wait()\n",
    "        self.next_section()\n",
    "        \n",
    "        # transform to slide 1\n",
    "        slide1_title = Text(\"What is Reinforcement Learning?\", font_size = 45, color = BLUE)\n",
    "        slide1_title.to_corner(UP + LEFT)\n",
    "        slide1_tite_ul = Underline(slide1_title, color = BLUE)\n",
    "        dog_img = ImageMobject(\"assets/dog_img.jpg\")\n",
    "        dog_img.scale_to_fit_width(0.6 * config.frame_width).shift(DOWN / 2)\n",
    "        self.play(\n",
    "            Transform(open_title, slide1_title),\n",
    "            Create(slide1_tite_ul),\n",
    "            FadeOut(open_slide - open_title),\n",
    "            FadeIn(dog_img)\n",
    "        )\n",
    "        self.wait()\n",
    "        self.next_section()\n",
    "        \n",
    "        slide1_text1 = Text(\"-The Agent can observe and\", t2c={\"Agent\": YELLOW}, font_size = 25).to_corner(LEFT).shift(UP)\n",
    "        slide1_text12 = Text(\"interact with the Environment\", t2c={\"Environment\": YELLOW}, font_size = 25).to_corner(LEFT).shift(UP / 2)\n",
    "        slide1_text2 = Text(\"-It can perform Actions and\", t2c={\"Actions\": YELLOW}, font_size = 25).to_corner(LEFT)\n",
    "        slide1_text22 = Text(\"receives Rewards from the\", t2c={\"Rewards\": YELLOW}, font_size = 25).to_corner(LEFT).shift(DOWN / 2)\n",
    "        slide1_text23 = Text(\"Environment based on\", font_size = 25).to_corner(LEFT).shift(DOWN)\n",
    "        slide1_text24 = Text(\"its action\", font_size = 25).to_corner(LEFT).shift(3 * DOWN / 2)\n",
    "        slide1_text3 = Text(\"-The Agent prefers Actions\", font_size = 25).to_corner(LEFT).shift(2 * DOWN)\n",
    "        slide1_text31 = Text(\"that maximise its Reward\", t2c={\"maximise\": YELLOW}, font_size = 25).to_corner(LEFT).shift(5 * DOWN / 2)\n",
    "        slide1_par1 = VGroup(slide1_text1, slide1_text12, slide1_text2, slide1_text22, slide1_text23, slide1_text24, slide1_text3, slide1_text31)\n",
    "        self.play(dog_img.animate.to_corner(RIGHT))\n",
    "        self.play(Create(slide1_par1))\n",
    "        self.wait()"
   ]
  },
  {
   "cell_type": "code",
   "execution_count": 3,
   "id": "e83be327",
   "metadata": {},
   "outputs": [
    {
     "name": "stderr",
     "output_type": "stream",
     "text": [
      "                                                                                                                       \r"
     ]
    },
    {
     "data": {
      "text/html": [
       "<video src=\"media\\jupyter\\Slide2@2022-02-21@19-52-31.mp4\" controls autoplay loop style=\"max-width: 60%;\"  >\n",
       "      Your browser does not support the <code>video</code> element.\n",
       "    </video>"
      ],
      "text/plain": [
       "<IPython.core.display.Video object>"
      ]
     },
     "metadata": {},
     "output_type": "display_data"
    }
   ],
   "source": [
    "%%manim -v WARNING -qh Slide2\n",
    "\n",
    "class Slide2(Scene):\n",
    "    def construct(self):\n",
    "        slide2_title = Text(\"Machine Learning - The Three Paradigms\", font_size = 40, color = BLUE)\n",
    "        slide2_title.to_corner(UP + LEFT)\n",
    "        slide2_tite_ul = Underline(slide2_title, color = BLUE)\n",
    "\n",
    "        venn_ML = Circle(radius = 3, color = RED).shift(DOWN / 2)\n",
    "        venn_ML_text1 = Text(\"Machine\", font_size = 40, color = RED).shift(4.5 * RIGHT)\n",
    "        venn_ML_text2 = Text(\"Learning\", font_size = 40, color = RED).shift(4.5 * RIGHT, 2 * DOWN / 3)\n",
    "        venn_S = Circle(radius = 1.5, color = WHITE).shift(RIGHT)\n",
    "        venn_S_text = Text(\"Supervised\", font_size = 20, color = WHITE).move_to(venn_S).shift(RIGHT / 2)\n",
    "        venn_US = Circle(radius = 1.5, color = WHITE).shift(LEFT)\n",
    "        venn_US_text = Text(\"Unsupervised\", font_size = 20, color = WHITE).move_to(venn_US).shift(LEFT / 2)\n",
    "        venn_RL = Circle(radius = 1.5, color = WHITE).shift(3 * DOWN / 2)\n",
    "        venn_RL_text = Text(\"Reinforcement\", font_size = 20, color = WHITE).move_to(venn_RL).shift(DOWN / 2)\n",
    "        venn_img = VGroup(venn_ML, venn_ML_text1, venn_ML_text2, venn_S, venn_S_text, venn_US, venn_US_text, venn_RL, venn_RL_text)\n",
    "        self.play(\n",
    "            Create(slide2_tite_ul),\n",
    "            Create(slide2_title),\n",
    "            FadeIn(venn_img)\n",
    "        )\n",
    "        self.wait()"
   ]
  },
  {
   "cell_type": "code",
   "execution_count": 4,
   "id": "7a29d65a",
   "metadata": {},
   "outputs": [
    {
     "name": "stderr",
     "output_type": "stream",
     "text": [
      "                                                                                                                       \r"
     ]
    },
    {
     "data": {
      "text/html": [
       "<video src=\"media\\jupyter\\Slide11@2022-02-21@19-52-53.mp4\" controls autoplay loop style=\"max-width: 60%;\"  >\n",
       "      Your browser does not support the <code>video</code> element.\n",
       "    </video>"
      ],
      "text/plain": [
       "<IPython.core.display.Video object>"
      ]
     },
     "metadata": {},
     "output_type": "display_data"
    }
   ],
   "source": [
    "%%manim -v WARNING -qh Slide11\n",
    "\n",
    "class Slide11(Scene):\n",
    "    def construct(self):\n",
    "        slide7_title = Text(\"Temporal Difference Learning\", font_size = 45, color = BLUE)\n",
    "        slide7_title.to_corner(UP + LEFT)\n",
    "        slide7_title_ul = Underline(slide7_title, color = BLUE)\n",
    "        self.play(Create(slide7_title), Create(slide7_title_ul))\n",
    "        self.wait()\n",
    "        \n",
    "        slide7_text1 = Text(\"-A central idea for Agents to learn\", t2c={\"learn\": YELLOW}, font_size = 25).move_to(slide7_title_ul).shift(DOWN).to_corner(LEFT)\n",
    "        slide7_text2 = Text(\"-These learning Algorithms Bootstrap, in distinct time-steps\", t2c={\"Bootstrap\": YELLOW, \"distinct\": YELLOW}, font_size = 25).move_to(slide7_text1).shift(DOWN / 2).to_corner(LEFT)\n",
    "        slide7_text3 = Text(\"-Guaranteed to improve or keep same level of performance\", t2c={\"improve or keep\": YELLOW}, font_size = 25).move_to(slide7_text2).shift(DOWN / 2).to_corner(LEFT)\n",
    "        slide7_par1 = VGroup(slide7_text1, slide7_text2, slide7_text3)\n",
    "        \n",
    "        code = '''Input: the Policy to be evaluated\n",
    "\n",
    "Loop for each step of episode:\n",
    "    Perform Action given by Policy\n",
    "    Observe the Reward and State from this Action\n",
    "    Refine Estimate for Optimal Value Function\n",
    "    Update State\n",
    "'''\n",
    "        rendered_code = Code(code = code, tab_width=4, background=\"window\",\n",
    "                            language=\"clean\", font=\"Monospace\").shift(1.5 * DOWN)\n",
    "        \n",
    "        self.play(Create(slide7_par1), Create(rendered_code))\n",
    "        self.wait()"
   ]
  },
  {
   "cell_type": "code",
   "execution_count": 5,
   "id": "03965b36",
   "metadata": {
    "scrolled": true
   },
   "outputs": [
    {
     "name": "stderr",
     "output_type": "stream",
     "text": [
      "                                                                                                                       \r"
     ]
    },
    {
     "data": {
      "text/html": [
       "<video src=\"media\\jupyter\\Slide12@2022-02-21@19-53-14.mp4\" controls autoplay loop style=\"max-width: 60%;\"  >\n",
       "      Your browser does not support the <code>video</code> element.\n",
       "    </video>"
      ],
      "text/plain": [
       "<IPython.core.display.Video object>"
      ]
     },
     "metadata": {},
     "output_type": "display_data"
    }
   ],
   "source": [
    "%%manim -v WARNING -qh Slide12\n",
    "\n",
    "class Slide12(Scene):\n",
    "    def construct(self):\n",
    "        slide8_title = Text(\"Q-Learning\", font_size = 45, color = BLUE)\n",
    "        slide8_title.to_corner(UP + LEFT)\n",
    "        slide8_title_ul = Underline(slide8_title, color = BLUE)\n",
    "        self.play(Create(slide8_title), Create(slide8_title_ul))\n",
    "        self.wait()\n",
    "        \n",
    "        slide8_tex = MathTex(r\"Q\\left( S_t, A_t \\right) \\leftarrow Q\\left( S_t, A_t \\right) + \\alpha\\left[ R_{t+1} + \\gamma \\underset{a}{max} Q\\left( S_{t+1}, a \\right) - Q\\left( S_t, A_t \\right) \\right]\", font_size = 40).shift(1.5 * UP)\n",
    "        slide8_text1 = Text(\"where:\", font_size = 25, color = RED).move_to(slide8_tex).shift(1 * DOWN).to_corner(LEFT)\n",
    "        slide8_tex2 = MathTex(r\"\\alpha\", font_size = 45).move_to(slide8_text1).to_corner(LEFT).shift(DOWN / 2, RIGHT / 2)\n",
    "        slide8_text2 = Text(\"is the learning rate\", t2c={\"learning rate\": YELLOW}, font_size = 25).move_to(slide8_tex2).to_corner(LEFT).shift(RIGHT)\n",
    "        slide8_tex3 = MathTex(r\"\\gamma\", font_size = 45).move_to(slide8_tex2).to_corner(LEFT).shift(DOWN / 2, RIGHT / 2)\n",
    "        slide8_text3 = Text(\"is the discount factor\", t2c={\"discount factor\": YELLOW}, font_size = 25).move_to(slide8_tex3).to_corner(LEFT).shift(RIGHT)\n",
    "        slide8_tex4 = MathTex(r\"t\", font_size = 45).move_to(slide8_tex3).to_corner(LEFT).shift(DOWN / 2, RIGHT / 2)\n",
    "        slide8_text4 = Text(\"is the current time-step\", t2c={\"time-step\": YELLOW}, font_size = 25).move_to(slide8_tex4).to_corner(LEFT).shift(RIGHT)\n",
    "        slide8_par1 = VGroup(slide8_text1, slide8_tex2, slide8_text2, slide8_tex3, slide8_text3, slide8_tex4, slide8_text4)\n",
    "        self.play(Create(slide8_par1), Write(slide8_tex))\n",
    "        \n",
    "        slide8_text5 = Text(\"-All data is stored in a table with Actions & States\", t2c={\"stored in a table\": YELLOW}, font_size = 25).move_to(slide8_tex4).shift(1 * DOWN).to_corner(LEFT)\n",
    "        slide8_text6 = Text(\"-This determines the Action taken in a given State\", t2c={\"determines\": YELLOW}, font_size = 25).move_to(slide8_text5).shift(DOWN / 2).to_corner(LEFT)\n",
    "        slide8_par2 = VGroup(slide8_text5, slide8_text6)\n",
    "        self.play(Create(slide8_par2))\n",
    "        self.wait()\n"
   ]
  }
 ],
 "metadata": {
  "kernelspec": {
   "display_name": "Python 3 (ipykernel)",
   "language": "python",
   "name": "python3"
  },
  "language_info": {
   "codemirror_mode": {
    "name": "ipython",
    "version": 3
   },
   "file_extension": ".py",
   "mimetype": "text/x-python",
   "name": "python",
   "nbconvert_exporter": "python",
   "pygments_lexer": "ipython3",
   "version": "3.9.7"
  }
 },
 "nbformat": 4,
 "nbformat_minor": 5
}
