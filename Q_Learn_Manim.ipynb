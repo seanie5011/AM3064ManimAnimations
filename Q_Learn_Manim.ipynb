{
 "cells": [
  {
   "cell_type": "code",
   "execution_count": 2,
   "id": "031cb65d",
   "metadata": {},
   "outputs": [
    {
     "data": {
      "text/html": [
       "<pre style=\"white-space:pre;overflow-x:auto;line-height:normal;font-family:Menlo,'DejaVu Sans Mono',consolas,'Courier New',monospace\">Manim Community <span style=\"color: #008000; text-decoration-color: #008000\">v0.14.0</span>\n",
       "\n",
       "</pre>\n"
      ],
      "text/plain": [
       "Manim Community \u001b[32mv0.\u001b[0m\u001b[32m14.0\u001b[0m\n",
       "\n"
      ]
     },
     "metadata": {},
     "output_type": "display_data"
    }
   ],
   "source": [
    "from manim import *\n",
    "import numpy as np"
   ]
  },
  {
   "cell_type": "code",
   "execution_count": 2,
   "id": "e7bf7307",
   "metadata": {},
   "outputs": [
    {
     "name": "stderr",
     "output_type": "stream",
     "text": [
      "                                                                                                                       \r"
     ]
    },
    {
     "data": {
      "text/html": [
       "<video src=\"media\\jupyter\\RLGridOptimal@2022-02-21@11-32-11.mp4\" controls autoplay loop style=\"max-width: 60%;\"  >\n",
       "      Your browser does not support the <code>video</code> element.\n",
       "    </video>"
      ],
      "text/plain": [
       "<IPython.core.display.Video object>"
      ]
     },
     "metadata": {},
     "output_type": "display_data"
    }
   ],
   "source": [
    "%%manim -v WARNING -qh RLGridOptimal\n",
    "\n",
    "class RLGridOptimal(Scene):\n",
    "    def construct(self):\n",
    "        # Define Objects\n",
    "        numberplane = NumberPlane(x_range = [0, 5, 1], y_range = [0, 5, 1], x_length = 5, y_length = 5, z_index = -1)\n",
    "        outline = Square(side_length = 5)\n",
    "        item = Dot(point = [2, -1, 1], radius = 0.25, color = '#1D9FBF', z_index = -1)\n",
    "        goal = Dot(point = [0, 0, 1], radius = 0.25, color = '#33BF1D', z_index = -1)\n",
    "        player = Circle(radius = 0.25, color = '#E31F1F').move_to([-1, -1, 0]).set_fill('#E31F1F', opacity = 0.5)\n",
    "        \n",
    "        # Create Scene\n",
    "        self.play(Create(numberplane), Create(outline))\n",
    "        self.wait(0.25)\n",
    "        self.play(Create(player))\n",
    "        self.wait(0.25)\n",
    "        self.play(Create(item), Create(goal))\n",
    "        self.wait()\n",
    "        \n",
    "        # Animate to Item\n",
    "        self.play(player.animate.shift(RIGHT))\n",
    "        self.play(player.animate.shift(RIGHT))\n",
    "        self.play(player.animate.shift(RIGHT))\n",
    "        self.play(player.animate.set_fill('#1D9FBF', opacity = 0.5), FadeOut(item))\n",
    "        self.wait(0.5)\n",
    "        \n",
    "        # Animate to Goal\n",
    "        self.play(player.animate.shift(UP))\n",
    "        self.play(player.animate.shift(LEFT))\n",
    "        self.play(player.animate.shift(LEFT))\n",
    "        self.play(player.animate.set_fill('#33BF1D', opacity = 0.5), FadeOut(goal))\n",
    "        self.wait()"
   ]
  },
  {
   "cell_type": "code",
   "execution_count": 3,
   "id": "26b01d96",
   "metadata": {},
   "outputs": [
    {
     "name": "stderr",
     "output_type": "stream",
     "text": [
      "                                                                                                                       \r"
     ]
    },
    {
     "data": {
      "text/html": [
       "<video src=\"media\\jupyter\\RLGrid@2022-02-21@22-39-26.mp4\" controls autoplay loop style=\"max-width: 60%;\"  >\n",
       "      Your browser does not support the <code>video</code> element.\n",
       "    </video>"
      ],
      "text/plain": [
       "<IPython.core.display.Video object>"
      ]
     },
     "metadata": {},
     "output_type": "display_data"
    }
   ],
   "source": [
    "%%manim -v WARNING -qh RLGrid\n",
    "\n",
    "class RLGrid(Scene):\n",
    "    def construct(self):\n",
    "        # Define Objects\n",
    "        numberplane = NumberPlane(x_range = [0, 5, 1], y_range = [0, 5, 1], x_length = 5, y_length = 5, z_index = -1)\n",
    "        outline = Square(side_length = 5)\n",
    "        item = Dot(point = [2, -1, 1], radius = 0.25, color = '#1D9FBF', z_index = -1)\n",
    "        goal = Dot(point = [0, 0, 1], radius = 0.25, color = '#33BF1D', z_index = -1)\n",
    "        player = Circle(radius = 0.25, color = '#E31F1F').move_to([-1, -1, 0]).set_fill('#E31F1F', opacity = 0.5)\n",
    "        \n",
    "        # Create Scene\n",
    "        self.play(Create(numberplane), Create(outline))\n",
    "        self.wait(0.25)\n",
    "        self.play(Create(player))\n",
    "        self.wait(0.25)\n",
    "        self.play(Create(item), Create(goal))\n",
    "        self.wait()\n",
    "        \n",
    "        # Animate random behaviour\n",
    "        self.play(player.animate.shift(LEFT))\n",
    "        self.play(player.animate.set_fill('#33BF1D', opacity = 0.5)) # tried to dropoff\n",
    "        player.set_fill('#E31F1F', opacity = 0.5) # failed dropoff\n",
    "        self.play(player.animate.shift(UP))\n",
    "        self.play(player.animate.shift(DOWN))\n",
    "        self.play(player.animate.shift(RIGHT))\n",
    "        self.play(player.animate.shift(RIGHT))\n",
    "        self.play(player.animate.shift(RIGHT))\n",
    "        self.play(player.animate.shift(DOWN))\n",
    "        self.play(player.animate.shift(UP))\n",
    "        self.play(player.animate.set_fill('#1D9FBF', opacity = 0.5)) # tried to pickup\n",
    "        player.set_fill('#E31F1F', opacity = 0.5) # failed pickup\n",
    "        \n",
    "        #Final movements and FadeOut\n",
    "        self.play(player.animate.shift(RIGHT), run_time = 0.5)\n",
    "        self.play(player.animate.shift(DOWN), run_time = 0.5)\n",
    "        self.play(player.animate.shift(UP), run_time = 0.5)\n",
    "        self.play(player.animate.shift(UP), run_time = 0.5)\n",
    "        self.play(player.animate.shift(LEFT), run_time = 0.5)\n",
    "        self.play(player.animate.shift(LEFT), run_time = 0.5)\n",
    "        self.play(player.animate.shift(DOWN), run_time = 0.5)\n",
    "        self.play(player.animate.shift(UP), run_time = 0.5)\n",
    "        self.wait()"
   ]
  },
  {
   "cell_type": "code",
   "execution_count": 6,
   "id": "75a4d8a5",
   "metadata": {},
   "outputs": [
    {
     "name": "stderr",
     "output_type": "stream",
     "text": [
      "                                                                                                                       \r"
     ]
    },
    {
     "data": {
      "text/html": [
       "<video src=\"media\\jupyter\\Testing@2022-02-21@20-20-27.mp4\" controls autoplay loop style=\"max-width: 60%;\"  >\n",
       "      Your browser does not support the <code>video</code> element.\n",
       "    </video>"
      ],
      "text/plain": [
       "<IPython.core.display.Video object>"
      ]
     },
     "metadata": {},
     "output_type": "display_data"
    }
   ],
   "source": [
    "%%manim -v WARNING -qh Testing\n",
    "\n",
    "class Testing(Scene):\n",
    "    def construct(self):\n",
    "        # Define Objects\n",
    "        numberplane1 = NumberPlane(x_range = [0, 5, 1], y_range = [0, 5, 1], x_length = 5, y_length = 5, z_index = -1)\n",
    "        outline1 = Square(side_length = 5)\n",
    "        numberplaneGroup1 = VGroup(numberplane1, outline1)\n",
    "        \n",
    "        numberplane2 = NumberPlane(x_range = [0, 5, 1], y_range = [0, 5, 1], x_length = 5, y_length = 5, z_index = -1)\n",
    "        outline2 = Square(side_length = 5)\n",
    "        numberplaneGroup2 = VGroup(numberplane2, outline2)\n",
    "        \n",
    "        numberplane11 = NumberPlane(x_range = [0, 5, 1], y_range = [0, 5, 1], x_length = 5, y_length = 5, z_index = -1)\n",
    "        outline11 = Square(side_length = 5)\n",
    "        numberplaneGroup11 = VGroup(numberplane11, outline11).scale(0.5)\n",
    "        \n",
    "        numberplane22 = NumberPlane(x_range = [0, 5, 1], y_range = [0, 5, 1], x_length = 5, y_length = 5, z_index = -1)\n",
    "        outline22 = Square(side_length = 5)\n",
    "        numberplaneGroup22 = VGroup(numberplane22, outline22).scale(0.5)\n",
    "        \n",
    "        self.play(Create(numberplaneGroup1) , Create(numberplaneGroup2))\n",
    "        self.wait()\n",
    "        self.play(numberplaneGroup1.animate.shift(3*LEFT), numberplaneGroup2.animate.shift(3*RIGHT))\n",
    "        self.wait()\n",
    "        \n",
    "        self.play(numberplaneGroup1.animate.scale(0.5).shift(1.5*UP, 1.5*RIGHT), numberplaneGroup2.animate.scale(0.5).shift(1.5*UP, 1.5*LEFT))\n",
    "        self.add(numberplaneGroup11.next_to(numberplaneGroup1, direction=np.array([0, 0, 0])), numberplaneGroup22.next_to(numberplaneGroup2, direction = np.array([0, 0, 0])))\n",
    "        self.play(numberplaneGroup11.animate.shift(3*DOWN), numberplaneGroup22.animate.shift(3*DOWN))\n",
    "        self.wait()\n",
    "        \n",
    "        item1 = Dot(point = [2, -1, 1], radius = 0.25, color = '#1D9FBF', z_index = -1).scale(0.5).next_to(numberplaneGroup1, direction = np.array([0, 0, 0])).shift(0.5*DOWN)\n",
    "        goal1 = Dot(point = [0, 0, 1], radius = 0.25, color = '#33BF1D', z_index = -1).scale(0.5).next_to(numberplaneGroup1, direction = np.array([0, 0, 0])).shift(0.5*RIGHT)\n",
    "        player1 = Circle(radius = 0.25, color = '#E31F1F').set_fill('#E31F1F', opacity = 0.5).scale(0.5).next_to(numberplaneGroup1, direction = np.array([0, 0, 0])).shift(0.5*UP)\n",
    "        entitiesGroup1 = VGroup(goal1, item1, player1)\n",
    "        \n",
    "        self.play(Create(entitiesGroup1))\n",
    "        self.wait()\n",
    "        \n",
    "        item11 = Dot(point = [2, -1, 1], radius = 0.25, color = '#1D9FBF', z_index = -1).scale(0.5).next_to(numberplaneGroup11, direction = np.array([0, 0, 0])).shift(0.5*UP)\n",
    "        goal11 = Dot(point = [0, 0, 1], radius = 0.25, color = '#33BF1D', z_index = -1).scale(0.5).next_to(numberplaneGroup11, direction = np.array([0, 0, 0])).shift(0.5*LEFT)\n",
    "        player11 = Circle(radius = 0.25, color = '#E31F1F').set_fill('#E31F1F', opacity = 0.5).scale(0.5).next_to(numberplaneGroup11, direction = np.array([0, 0, 0])).shift(0)\n",
    "        entitiesGroup11 = VGroup(goal11, item11, player11)\n",
    "        \n",
    "        item2 = Dot(point = [2, -1, 1], radius = 0.25, color = '#1D9FBF', z_index = -1).scale(0.5).next_to(numberplaneGroup2, direction = np.array([0, 0, 0])).shift(0.5*DOWN)\n",
    "        goal2 = Dot(point = [0, 0, 1], radius = 0.25, color = '#33BF1D', z_index = -1).scale(0.5).next_to(numberplaneGroup2, direction = np.array([0, 0, 0])).shift(0.5*RIGHT)\n",
    "        player2 = Circle(radius = 0.25, color = '#E31F1F').set_fill('#E31F1F', opacity = 0.5).scale(0.5).next_to(numberplaneGroup2, direction = np.array([0, 0, 0])).shift(1*RIGHT)\n",
    "        entitiesGroup2 = VGroup(goal2, item2, player2)\n",
    "        \n",
    "        item22 = Dot(point = [2, -1, 1], radius = 0.25, color = '#1D9FBF', z_index = -1).scale(0.5).next_to(numberplaneGroup22, direction = np.array([0, 0, 0])).shift(1*DOWN)\n",
    "        goal22 = Dot(point = [0, 0, 1], radius = 0.25, color = '#33BF1D', z_index = -1).scale(0.5).next_to(numberplaneGroup22, direction = np.array([0, 0, 0])).shift(1*LEFT)\n",
    "        player22 = Circle(radius = 0.25, color = '#E31F1F').set_fill('#E31F1F', opacity = 0.5).scale(0.5).next_to(numberplaneGroup22, direction = np.array([0, 0, 0])).shift(0.5*UP)\n",
    "        entitiesGroup22 = VGroup(goal22, item22, player22)\n",
    "        \n",
    "        animations = [Create(entitiesGroup11), Create(entitiesGroup2), Create(entitiesGroup22)]\n",
    "        self.play(AnimationGroup(*animations, lag_ratio=0.5, run_time = 0.8))\n",
    "        self.wait()\n",
    "        \n",
    "        all4Group1 = VGroup(numberplaneGroup1, numberplaneGroup11, numberplaneGroup2, numberplaneGroup22, entitiesGroup1, entitiesGroup11, entitiesGroup2, entitiesGroup22)\n",
    "        self.play(all4Group1.animate.scale(0.5).shift(1.5*UP, 1.5*LEFT))\n",
    "        self.wait()\n",
    "        \n",
    "        all4Group11 = all4Group1.copy()\n",
    "        all4Group2 = all4Group1.copy()\n",
    "        all4Group22 = all4Group1.copy()\n",
    "        self.add(all4Group11, all4Group2, all4Group22)\n",
    "        self.play(all4Group11.animate.shift(3*RIGHT), all4Group2.animate.shift(3*DOWN), all4Group22.animate.shift(3*DOWN).shift(3*RIGHT), run_time = 2)\n",
    "        self.wait()\n",
    "        \n",
    "        all16Group1 = VGroup(all4Group1, all4Group11, all4Group2, all4Group22)\n",
    "        self.play(all16Group1.animate.scale(0.5).shift(1.5*UP, 1.5*LEFT))\n",
    "        all16Group11 = all16Group1.copy()\n",
    "        all16Group2 = all16Group1.copy()\n",
    "        all16Group22 = all16Group1.copy()\n",
    "        self.add(all16Group11, all16Group2, all16Group22)\n",
    "        self.play(all16Group11.animate.shift(3*RIGHT), all16Group2.animate.shift(3*DOWN), all16Group22.animate.shift(3*DOWN).shift(3*RIGHT), run_time = 2)\n",
    "        self.wait()"
   ]
  },
  {
   "cell_type": "code",
   "execution_count": 9,
   "id": "8276e824",
   "metadata": {},
   "outputs": [
    {
     "name": "stderr",
     "output_type": "stream",
     "text": [
      "                                                                                                                       \r"
     ]
    },
    {
     "data": {
      "text/html": [
       "<video src=\"media\\jupyter\\GridWorldExplanation@2022-02-21@11-43-01.mp4\" controls autoplay loop style=\"max-width: 60%;\"  >\n",
       "      Your browser does not support the <code>video</code> element.\n",
       "    </video>"
      ],
      "text/plain": [
       "<IPython.core.display.Video object>"
      ]
     },
     "metadata": {},
     "output_type": "display_data"
    }
   ],
   "source": [
    "%%manim -v WARNING -qh GridWorldExplanation\n",
    "\n",
    "class GridWorldExplanation(Scene):\n",
    "    def construct(self):\n",
    "        # Define Objects\n",
    "        numberplane = NumberPlane(x_range = [0, 5, 1], y_range = [0, 5, 1], x_length = 5, y_length = 5, z_index = -1)\n",
    "        outline = Square(side_length = 5)\n",
    "        \n",
    "        player = Circle(radius = 0.25, color = '#E31F1F').move_to([0, 0, 0]).set_fill('#E31F1F', opacity = 0.5)\n",
    "        player_legend_display = player.copy().shift(2 * RIGHT, 2 * UP)\n",
    "        player_legend_text = Text(\"Agent\", font_size = 35).move_to(player_legend_display).shift(1.25 * RIGHT)\n",
    "        player_legend = VGroup(player_legend_display, player_legend_text)\n",
    "        \n",
    "        item = Dot(point = [-2, 0, 1], radius = 0.25, color = '#1D9FBF', z_index = -1)\n",
    "        item_legend_display = item.copy().move_to([0, 0, 0]).shift(2 * RIGHT, UP)\n",
    "        item_legend_text = Text(\"Item\", font_size = 35).move_to(item_legend_display).shift(1.15 * RIGHT)\n",
    "        item_legend = VGroup(item_legend_display, item_legend_text)\n",
    "        \n",
    "        playeritem_legend_display = player_legend_display.copy().set_fill('#1D9FBF', opacity = 0.5).shift(2 * DOWN)\n",
    "        playeritem_legend_text = Text(\"Agent with Item\", font_size = 35).move_to(playeritem_legend_display).shift(2.4 * RIGHT)\n",
    "        playeritem_legend = VGroup(playeritem_legend_display, playeritem_legend_text)\n",
    "        \n",
    "        goal = Dot(point = [0, 2, 1], radius = 0.25, color = '#33BF1D', z_index = -1)\n",
    "        goal_legend_display = goal.copy().move_to([0, 0, 0]).shift(2 * RIGHT, DOWN)\n",
    "        goal_legend_text = Text(\"Goal\", font_size = 35).move_to(goal_legend_display).shift(1.15 * RIGHT)\n",
    "        goal_legend = VGroup(goal_legend_display, goal_legend_text)\n",
    "        \n",
    "        playergoal_legend_display = player_legend_display.copy().set_fill('#33BF1D', opacity = 0.5).shift(4 * DOWN)\n",
    "        playergoal_legend_text = Text(\"Agent with Goal\", font_size = 35).move_to(playergoal_legend_display).shift(2.4 * RIGHT)\n",
    "        playergoal_legend = VGroup(playergoal_legend_display, playergoal_legend_text)\n",
    "        \n",
    "        grid_objects = VGroup(numberplane, outline, item, goal, player)\n",
    "        \n",
    "        # Create Scene\n",
    "        self.play(Create(numberplane), Create(outline))\n",
    "        self.wait(0.25)\n",
    "        self.play((grid_objects - item - goal - player).animate.shift(2 * LEFT))\n",
    "        (grid_objects - numberplane - outline).shift(2 * LEFT)\n",
    "        self.play(Create(player), Create(player_legend))\n",
    "        self.wait()\n",
    "        \n",
    "        # Movement Showcase\n",
    "        move_list = [LEFT, RIGHT, RIGHT, LEFT, UP, DOWN, DOWN, UP]\n",
    "        for index, move in enumerate(move_list):\n",
    "            self.play(player.animate.shift(move)) #, run_time = 1/ (max(index, 1))\n",
    "        self.wait()\n",
    "        \n",
    "        # Item and collection\n",
    "        self.play(Create(item), Create(item_legend))\n",
    "        move_list = [LEFT, LEFT]\n",
    "        for move in move_list:\n",
    "            self.play(player.animate.shift(move))\n",
    "        self.play(player.animate.set_fill('#1D9FBF', opacity = 0.5), Create(playeritem_legend), FadeOut(item))\n",
    "        self.wait()\n",
    "        \n",
    "        # goal and delivery\n",
    "        self.play(Create(goal), Create(goal_legend))\n",
    "        move_list = [RIGHT, RIGHT, UP, UP]\n",
    "        for move in move_list:\n",
    "            self.play(player.animate.shift(move))\n",
    "        self.play(player.animate.set_fill('#33BF1D', opacity = 0.5), Create(playergoal_legend), FadeOut(goal))\n",
    "        self.wait()"
   ]
  },
  {
   "cell_type": "code",
   "execution_count": null,
   "id": "1486533f",
   "metadata": {},
   "outputs": [],
   "source": []
  }
 ],
 "metadata": {
  "kernelspec": {
   "display_name": "Python 3 (ipykernel)",
   "language": "python",
   "name": "python3"
  },
  "language_info": {
   "codemirror_mode": {
    "name": "ipython",
    "version": 3
   },
   "file_extension": ".py",
   "mimetype": "text/x-python",
   "name": "python",
   "nbconvert_exporter": "python",
   "pygments_lexer": "ipython3",
   "version": "3.9.7"
  }
 },
 "nbformat": 4,
 "nbformat_minor": 5
}
